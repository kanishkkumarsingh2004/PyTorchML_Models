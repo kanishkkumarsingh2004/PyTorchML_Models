{
  "nbformat": 4,
  "nbformat_minor": 0,
  "metadata": {
    "colab": {
      "provenance": [],
      "gpuType": "T4"
    },
    "kernelspec": {
      "name": "python3",
      "display_name": "Python 3"
    },
    "language_info": {
      "name": "python"
    },
    "accelerator": "GPU"
  },
  "cells": [
    {
      "cell_type": "markdown",
      "source": [
        "###**Supervised learning is a core machine learning paradigm where a model learns to map inputs to outputs using a labeled dataset. In this approach, the data consists of input features and their corresponding labels, allowing the model to learn patterns and relationships during training. By leveraging neural networks, which are computational models inspired by the human brain, supervised learning can tackle complex tasks like classification and regression. Using `PyTorch`, a popular deep learning library, one can efficiently build and train neural networks. The process involves defining the model architecture, selecting a suitable loss function (e.g., CrossEntropyLoss for classification or MSELoss for regression), and optimizing the model parameters using algorithms like `SGD` or `Adam`. PyTorch's flexibility enables seamless data handling, forward propagation, and backpropagation, making it ideal for implementing supervised learning solutions.**\n"
      ],
      "metadata": {
        "id": "i8_mRPbqc3nX"
      }
    },
    {
      "cell_type": "markdown",
      "source": [
        "# **This cell contains all the essential library imports required for building and training a neural network using PyTorch. It includes torch for core functionalities, torchvision for accessing the MNIST dataset and data transformations, and other helpful libraries like pandas for data manipulation and matplotlib for visualization.**"
      ],
      "metadata": {
        "id": "sqQmVORCAw2K"
      }
    },
    {
      "cell_type": "code",
      "execution_count": 2,
      "metadata": {
        "id": "uuMpKgHP9wLV"
      },
      "outputs": [],
      "source": [
        "import torch\n",
        "import torch.nn as nn\n",
        "import torch.optim as optim\n",
        "from torch.utils.data import DataLoader, TensorDataset\n",
        "import torch.nn.functional as F\n",
        "import matplotlib.pyplot as plt\n",
        "import pandas as pd"
      ]
    },
    {
      "cell_type": "markdown",
      "source": [
        "# **This cell checks the availability of hardware for computation, determining whether a *GPU* is accessible for accelerating the training process or if the code will run on a *CPU*. It ensures efficient resource utilization by setting the appropriate device for PyTorch operations.**"
      ],
      "metadata": {
        "id": "SRQtFevsBN05"
      }
    },
    {
      "cell_type": "code",
      "source": [
        "device = torch.device(\"cuda\" if torch.cuda.is_available() else \"cpu\")\n",
        "print(device)"
      ],
      "metadata": {
        "colab": {
          "base_uri": "https://localhost:8080/"
        },
        "id": "OeXGPXUA-8kr",
        "outputId": "d6878722-463c-467b-a298-23ab2611a337"
      },
      "execution_count": 3,
      "outputs": [
        {
          "output_type": "stream",
          "name": "stdout",
          "text": [
            "cpu\n"
          ]
        }
      ]
    },
    {
      "cell_type": "markdown",
      "source": [
        "# **This cell is responsible for loading the *MNIST* dataset from a *CSV* file and displaying the top 5 rows using pandas. It helps in understanding the structure and content of the dataset, including the labels and pixel values, before proceeding with data preprocessing and training.**"
      ],
      "metadata": {
        "id": "IOP1M4j6Bm0T"
      }
    },
    {
      "cell_type": "code",
      "source": [
        "file_path = \"/content/mnist_test.csv\"\n",
        "data = pd.read_csv(file_path)\n",
        "data.head()"
      ],
      "metadata": {
        "colab": {
          "base_uri": "https://localhost:8080/",
          "height": 236
        },
        "id": "n0l3dbbD_Bfi",
        "outputId": "feedec5a-8023-4f74-ac73-101cd137f083"
      },
      "execution_count": 4,
      "outputs": [
        {
          "output_type": "execute_result",
          "data": {
            "text/plain": [
              "   label  1x1  1x2  1x3  1x4  1x5  1x6  1x7  1x8  1x9  ...  28x19  28x20  \\\n",
              "0      7    0    0    0    0    0    0    0    0    0  ...      0      0   \n",
              "1      2    0    0    0    0    0    0    0    0    0  ...      0      0   \n",
              "2      1    0    0    0    0    0    0    0    0    0  ...      0      0   \n",
              "3      0    0    0    0    0    0    0    0    0    0  ...      0      0   \n",
              "4      4    0    0    0    0    0    0    0    0    0  ...      0      0   \n",
              "\n",
              "   28x21  28x22  28x23  28x24  28x25  28x26  28x27  28x28  \n",
              "0      0      0      0      0      0      0      0      0  \n",
              "1      0      0      0      0      0      0      0      0  \n",
              "2      0      0      0      0      0      0      0      0  \n",
              "3      0      0      0      0      0      0      0      0  \n",
              "4      0      0      0      0      0      0      0      0  \n",
              "\n",
              "[5 rows x 785 columns]"
            ],
            "text/html": [
              "\n",
              "  <div id=\"df-08db194c-e611-46a6-ac80-ac99cb67757c\" class=\"colab-df-container\">\n",
              "    <div>\n",
              "<style scoped>\n",
              "    .dataframe tbody tr th:only-of-type {\n",
              "        vertical-align: middle;\n",
              "    }\n",
              "\n",
              "    .dataframe tbody tr th {\n",
              "        vertical-align: top;\n",
              "    }\n",
              "\n",
              "    .dataframe thead th {\n",
              "        text-align: right;\n",
              "    }\n",
              "</style>\n",
              "<table border=\"1\" class=\"dataframe\">\n",
              "  <thead>\n",
              "    <tr style=\"text-align: right;\">\n",
              "      <th></th>\n",
              "      <th>label</th>\n",
              "      <th>1x1</th>\n",
              "      <th>1x2</th>\n",
              "      <th>1x3</th>\n",
              "      <th>1x4</th>\n",
              "      <th>1x5</th>\n",
              "      <th>1x6</th>\n",
              "      <th>1x7</th>\n",
              "      <th>1x8</th>\n",
              "      <th>1x9</th>\n",
              "      <th>...</th>\n",
              "      <th>28x19</th>\n",
              "      <th>28x20</th>\n",
              "      <th>28x21</th>\n",
              "      <th>28x22</th>\n",
              "      <th>28x23</th>\n",
              "      <th>28x24</th>\n",
              "      <th>28x25</th>\n",
              "      <th>28x26</th>\n",
              "      <th>28x27</th>\n",
              "      <th>28x28</th>\n",
              "    </tr>\n",
              "  </thead>\n",
              "  <tbody>\n",
              "    <tr>\n",
              "      <th>0</th>\n",
              "      <td>7</td>\n",
              "      <td>0</td>\n",
              "      <td>0</td>\n",
              "      <td>0</td>\n",
              "      <td>0</td>\n",
              "      <td>0</td>\n",
              "      <td>0</td>\n",
              "      <td>0</td>\n",
              "      <td>0</td>\n",
              "      <td>0</td>\n",
              "      <td>...</td>\n",
              "      <td>0</td>\n",
              "      <td>0</td>\n",
              "      <td>0</td>\n",
              "      <td>0</td>\n",
              "      <td>0</td>\n",
              "      <td>0</td>\n",
              "      <td>0</td>\n",
              "      <td>0</td>\n",
              "      <td>0</td>\n",
              "      <td>0</td>\n",
              "    </tr>\n",
              "    <tr>\n",
              "      <th>1</th>\n",
              "      <td>2</td>\n",
              "      <td>0</td>\n",
              "      <td>0</td>\n",
              "      <td>0</td>\n",
              "      <td>0</td>\n",
              "      <td>0</td>\n",
              "      <td>0</td>\n",
              "      <td>0</td>\n",
              "      <td>0</td>\n",
              "      <td>0</td>\n",
              "      <td>...</td>\n",
              "      <td>0</td>\n",
              "      <td>0</td>\n",
              "      <td>0</td>\n",
              "      <td>0</td>\n",
              "      <td>0</td>\n",
              "      <td>0</td>\n",
              "      <td>0</td>\n",
              "      <td>0</td>\n",
              "      <td>0</td>\n",
              "      <td>0</td>\n",
              "    </tr>\n",
              "    <tr>\n",
              "      <th>2</th>\n",
              "      <td>1</td>\n",
              "      <td>0</td>\n",
              "      <td>0</td>\n",
              "      <td>0</td>\n",
              "      <td>0</td>\n",
              "      <td>0</td>\n",
              "      <td>0</td>\n",
              "      <td>0</td>\n",
              "      <td>0</td>\n",
              "      <td>0</td>\n",
              "      <td>...</td>\n",
              "      <td>0</td>\n",
              "      <td>0</td>\n",
              "      <td>0</td>\n",
              "      <td>0</td>\n",
              "      <td>0</td>\n",
              "      <td>0</td>\n",
              "      <td>0</td>\n",
              "      <td>0</td>\n",
              "      <td>0</td>\n",
              "      <td>0</td>\n",
              "    </tr>\n",
              "    <tr>\n",
              "      <th>3</th>\n",
              "      <td>0</td>\n",
              "      <td>0</td>\n",
              "      <td>0</td>\n",
              "      <td>0</td>\n",
              "      <td>0</td>\n",
              "      <td>0</td>\n",
              "      <td>0</td>\n",
              "      <td>0</td>\n",
              "      <td>0</td>\n",
              "      <td>0</td>\n",
              "      <td>...</td>\n",
              "      <td>0</td>\n",
              "      <td>0</td>\n",
              "      <td>0</td>\n",
              "      <td>0</td>\n",
              "      <td>0</td>\n",
              "      <td>0</td>\n",
              "      <td>0</td>\n",
              "      <td>0</td>\n",
              "      <td>0</td>\n",
              "      <td>0</td>\n",
              "    </tr>\n",
              "    <tr>\n",
              "      <th>4</th>\n",
              "      <td>4</td>\n",
              "      <td>0</td>\n",
              "      <td>0</td>\n",
              "      <td>0</td>\n",
              "      <td>0</td>\n",
              "      <td>0</td>\n",
              "      <td>0</td>\n",
              "      <td>0</td>\n",
              "      <td>0</td>\n",
              "      <td>0</td>\n",
              "      <td>...</td>\n",
              "      <td>0</td>\n",
              "      <td>0</td>\n",
              "      <td>0</td>\n",
              "      <td>0</td>\n",
              "      <td>0</td>\n",
              "      <td>0</td>\n",
              "      <td>0</td>\n",
              "      <td>0</td>\n",
              "      <td>0</td>\n",
              "      <td>0</td>\n",
              "    </tr>\n",
              "  </tbody>\n",
              "</table>\n",
              "<p>5 rows × 785 columns</p>\n",
              "</div>\n",
              "    <div class=\"colab-df-buttons\">\n",
              "\n",
              "  <div class=\"colab-df-container\">\n",
              "    <button class=\"colab-df-convert\" onclick=\"convertToInteractive('df-08db194c-e611-46a6-ac80-ac99cb67757c')\"\n",
              "            title=\"Convert this dataframe to an interactive table.\"\n",
              "            style=\"display:none;\">\n",
              "\n",
              "  <svg xmlns=\"http://www.w3.org/2000/svg\" height=\"24px\" viewBox=\"0 -960 960 960\">\n",
              "    <path d=\"M120-120v-720h720v720H120Zm60-500h600v-160H180v160Zm220 220h160v-160H400v160Zm0 220h160v-160H400v160ZM180-400h160v-160H180v160Zm440 0h160v-160H620v160ZM180-180h160v-160H180v160Zm440 0h160v-160H620v160Z\"/>\n",
              "  </svg>\n",
              "    </button>\n",
              "\n",
              "  <style>\n",
              "    .colab-df-container {\n",
              "      display:flex;\n",
              "      gap: 12px;\n",
              "    }\n",
              "\n",
              "    .colab-df-convert {\n",
              "      background-color: #E8F0FE;\n",
              "      border: none;\n",
              "      border-radius: 50%;\n",
              "      cursor: pointer;\n",
              "      display: none;\n",
              "      fill: #1967D2;\n",
              "      height: 32px;\n",
              "      padding: 0 0 0 0;\n",
              "      width: 32px;\n",
              "    }\n",
              "\n",
              "    .colab-df-convert:hover {\n",
              "      background-color: #E2EBFA;\n",
              "      box-shadow: 0px 1px 2px rgba(60, 64, 67, 0.3), 0px 1px 3px 1px rgba(60, 64, 67, 0.15);\n",
              "      fill: #174EA6;\n",
              "    }\n",
              "\n",
              "    .colab-df-buttons div {\n",
              "      margin-bottom: 4px;\n",
              "    }\n",
              "\n",
              "    [theme=dark] .colab-df-convert {\n",
              "      background-color: #3B4455;\n",
              "      fill: #D2E3FC;\n",
              "    }\n",
              "\n",
              "    [theme=dark] .colab-df-convert:hover {\n",
              "      background-color: #434B5C;\n",
              "      box-shadow: 0px 1px 3px 1px rgba(0, 0, 0, 0.15);\n",
              "      filter: drop-shadow(0px 1px 2px rgba(0, 0, 0, 0.3));\n",
              "      fill: #FFFFFF;\n",
              "    }\n",
              "  </style>\n",
              "\n",
              "    <script>\n",
              "      const buttonEl =\n",
              "        document.querySelector('#df-08db194c-e611-46a6-ac80-ac99cb67757c button.colab-df-convert');\n",
              "      buttonEl.style.display =\n",
              "        google.colab.kernel.accessAllowed ? 'block' : 'none';\n",
              "\n",
              "      async function convertToInteractive(key) {\n",
              "        const element = document.querySelector('#df-08db194c-e611-46a6-ac80-ac99cb67757c');\n",
              "        const dataTable =\n",
              "          await google.colab.kernel.invokeFunction('convertToInteractive',\n",
              "                                                    [key], {});\n",
              "        if (!dataTable) return;\n",
              "\n",
              "        const docLinkHtml = 'Like what you see? Visit the ' +\n",
              "          '<a target=\"_blank\" href=https://colab.research.google.com/notebooks/data_table.ipynb>data table notebook</a>'\n",
              "          + ' to learn more about interactive tables.';\n",
              "        element.innerHTML = '';\n",
              "        dataTable['output_type'] = 'display_data';\n",
              "        await google.colab.output.renderOutput(dataTable, element);\n",
              "        const docLink = document.createElement('div');\n",
              "        docLink.innerHTML = docLinkHtml;\n",
              "        element.appendChild(docLink);\n",
              "      }\n",
              "    </script>\n",
              "  </div>\n",
              "\n",
              "\n",
              "<div id=\"df-da7427d5-0b6e-4180-814e-950e81142cbd\">\n",
              "  <button class=\"colab-df-quickchart\" onclick=\"quickchart('df-da7427d5-0b6e-4180-814e-950e81142cbd')\"\n",
              "            title=\"Suggest charts\"\n",
              "            style=\"display:none;\">\n",
              "\n",
              "<svg xmlns=\"http://www.w3.org/2000/svg\" height=\"24px\"viewBox=\"0 0 24 24\"\n",
              "     width=\"24px\">\n",
              "    <g>\n",
              "        <path d=\"M19 3H5c-1.1 0-2 .9-2 2v14c0 1.1.9 2 2 2h14c1.1 0 2-.9 2-2V5c0-1.1-.9-2-2-2zM9 17H7v-7h2v7zm4 0h-2V7h2v10zm4 0h-2v-4h2v4z\"/>\n",
              "    </g>\n",
              "</svg>\n",
              "  </button>\n",
              "\n",
              "<style>\n",
              "  .colab-df-quickchart {\n",
              "      --bg-color: #E8F0FE;\n",
              "      --fill-color: #1967D2;\n",
              "      --hover-bg-color: #E2EBFA;\n",
              "      --hover-fill-color: #174EA6;\n",
              "      --disabled-fill-color: #AAA;\n",
              "      --disabled-bg-color: #DDD;\n",
              "  }\n",
              "\n",
              "  [theme=dark] .colab-df-quickchart {\n",
              "      --bg-color: #3B4455;\n",
              "      --fill-color: #D2E3FC;\n",
              "      --hover-bg-color: #434B5C;\n",
              "      --hover-fill-color: #FFFFFF;\n",
              "      --disabled-bg-color: #3B4455;\n",
              "      --disabled-fill-color: #666;\n",
              "  }\n",
              "\n",
              "  .colab-df-quickchart {\n",
              "    background-color: var(--bg-color);\n",
              "    border: none;\n",
              "    border-radius: 50%;\n",
              "    cursor: pointer;\n",
              "    display: none;\n",
              "    fill: var(--fill-color);\n",
              "    height: 32px;\n",
              "    padding: 0;\n",
              "    width: 32px;\n",
              "  }\n",
              "\n",
              "  .colab-df-quickchart:hover {\n",
              "    background-color: var(--hover-bg-color);\n",
              "    box-shadow: 0 1px 2px rgba(60, 64, 67, 0.3), 0 1px 3px 1px rgba(60, 64, 67, 0.15);\n",
              "    fill: var(--button-hover-fill-color);\n",
              "  }\n",
              "\n",
              "  .colab-df-quickchart-complete:disabled,\n",
              "  .colab-df-quickchart-complete:disabled:hover {\n",
              "    background-color: var(--disabled-bg-color);\n",
              "    fill: var(--disabled-fill-color);\n",
              "    box-shadow: none;\n",
              "  }\n",
              "\n",
              "  .colab-df-spinner {\n",
              "    border: 2px solid var(--fill-color);\n",
              "    border-color: transparent;\n",
              "    border-bottom-color: var(--fill-color);\n",
              "    animation:\n",
              "      spin 1s steps(1) infinite;\n",
              "  }\n",
              "\n",
              "  @keyframes spin {\n",
              "    0% {\n",
              "      border-color: transparent;\n",
              "      border-bottom-color: var(--fill-color);\n",
              "      border-left-color: var(--fill-color);\n",
              "    }\n",
              "    20% {\n",
              "      border-color: transparent;\n",
              "      border-left-color: var(--fill-color);\n",
              "      border-top-color: var(--fill-color);\n",
              "    }\n",
              "    30% {\n",
              "      border-color: transparent;\n",
              "      border-left-color: var(--fill-color);\n",
              "      border-top-color: var(--fill-color);\n",
              "      border-right-color: var(--fill-color);\n",
              "    }\n",
              "    40% {\n",
              "      border-color: transparent;\n",
              "      border-right-color: var(--fill-color);\n",
              "      border-top-color: var(--fill-color);\n",
              "    }\n",
              "    60% {\n",
              "      border-color: transparent;\n",
              "      border-right-color: var(--fill-color);\n",
              "    }\n",
              "    80% {\n",
              "      border-color: transparent;\n",
              "      border-right-color: var(--fill-color);\n",
              "      border-bottom-color: var(--fill-color);\n",
              "    }\n",
              "    90% {\n",
              "      border-color: transparent;\n",
              "      border-bottom-color: var(--fill-color);\n",
              "    }\n",
              "  }\n",
              "</style>\n",
              "\n",
              "  <script>\n",
              "    async function quickchart(key) {\n",
              "      const quickchartButtonEl =\n",
              "        document.querySelector('#' + key + ' button');\n",
              "      quickchartButtonEl.disabled = true;  // To prevent multiple clicks.\n",
              "      quickchartButtonEl.classList.add('colab-df-spinner');\n",
              "      try {\n",
              "        const charts = await google.colab.kernel.invokeFunction(\n",
              "            'suggestCharts', [key], {});\n",
              "      } catch (error) {\n",
              "        console.error('Error during call to suggestCharts:', error);\n",
              "      }\n",
              "      quickchartButtonEl.classList.remove('colab-df-spinner');\n",
              "      quickchartButtonEl.classList.add('colab-df-quickchart-complete');\n",
              "    }\n",
              "    (() => {\n",
              "      let quickchartButtonEl =\n",
              "        document.querySelector('#df-da7427d5-0b6e-4180-814e-950e81142cbd button');\n",
              "      quickchartButtonEl.style.display =\n",
              "        google.colab.kernel.accessAllowed ? 'block' : 'none';\n",
              "    })();\n",
              "  </script>\n",
              "</div>\n",
              "\n",
              "    </div>\n",
              "  </div>\n"
            ],
            "application/vnd.google.colaboratory.intrinsic+json": {
              "type": "dataframe",
              "variable_name": "data"
            }
          },
          "metadata": {},
          "execution_count": 4
        }
      ]
    },
    {
      "cell_type": "markdown",
      "source": [
        "# **This cell extracts the labels column from the MNIST dataset and converts it into a list for further processing. It also displays the first five labels using slicing to give a quick preview of the target values.**"
      ],
      "metadata": {
        "id": "ak3F34iLCF2g"
      }
    },
    {
      "cell_type": "code",
      "source": [
        "labels = pd.read_csv(file_path)[\"label\"].tolist()\n",
        "labels[:5]"
      ],
      "metadata": {
        "colab": {
          "base_uri": "https://localhost:8080/"
        },
        "id": "_YiGHv1WDD60",
        "outputId": "1660572a-13d7-4e5b-f219-0d2dea516ba0"
      },
      "execution_count": 5,
      "outputs": [
        {
          "output_type": "execute_result",
          "data": {
            "text/plain": [
              "[7, 2, 1, 0, 4]"
            ]
          },
          "metadata": {},
          "execution_count": 5
        }
      ]
    },
    {
      "cell_type": "markdown",
      "source": [
        "# **This cell processes the dataset to create a list of lists, where each inner list contains the pixel values representing an image from the MNIST dataset. These pixel values will serve as inputs to the neural network for training.**"
      ],
      "metadata": {
        "id": "vy7lUlX8CR3V"
      }
    },
    {
      "cell_type": "code",
      "source": [
        "# Specify the column to exclude\n",
        "column_to_exclude = 'label'\n",
        "# Drop the specified column\n",
        "df = data.drop(column_to_exclude, axis=1)\n",
        "# Get all values as a list of lists\n",
        "img = df.values.tolist()"
      ],
      "metadata": {
        "id": "I7JddTQkDJ5A"
      },
      "execution_count": 6,
      "outputs": []
    },
    {
      "cell_type": "markdown",
      "source": [
        "# **This cell splits the dataset into training and testing sets, allocating 20% of the data for testing while keeping the remaining 80% for training. This ensures that the model is trained on a majority of the data and evaluated on a separate subset to measure its performance.**"
      ],
      "metadata": {
        "id": "bIkMxuCtDI_W"
      }
    },
    {
      "cell_type": "code",
      "source": [
        "n = 0.2\n",
        "data_len = len(img)\n",
        "print(data_len)\n",
        "validation_len = int(data_len * n)\n",
        "print(validation_len)"
      ],
      "metadata": {
        "colab": {
          "base_uri": "https://localhost:8080/"
        },
        "id": "WMFAJlOSDNtO",
        "outputId": "7a955225-ed6f-41c5-b927-4ebe141c7404"
      },
      "execution_count": 7,
      "outputs": [
        {
          "output_type": "stream",
          "name": "stdout",
          "text": [
            "10000\n",
            "2000\n"
          ]
        }
      ]
    },
    {
      "cell_type": "markdown",
      "source": [
        "# **This cell merges the image data with their corresponding labels and converts them from lists to `torch.tensor` format. This transformation ensures compatibility with the neural network, and the data is further prepared into `batches of size 64` for efficient training.**"
      ],
      "metadata": {
        "id": "Ubck1xeVEDQP"
      }
    },
    {
      "cell_type": "code",
      "source": [
        "# Define data loaders to load the data in batches during training and testing\n",
        "train_loader = DataLoader(img, batch_size=64, shuffle=True)\n",
        "test_loader = DataLoader(img[:validation_len], batch_size=64, shuffle=False)\n",
        "\n",
        "# Assuming img and labels are NumPy arrays or lists\n",
        "img_tensor = torch.tensor(img, dtype=torch.float32)  # Convert images to tensor\n",
        "labels_tensor = torch.tensor(labels, dtype=torch.long)  # Convert labels to tensor\n",
        "\n",
        "# Optionally, normalize images if not already normalized\n",
        "img_tensor = (img_tensor / 255.0 - 0.5) / 0.5  # Normalize to [-1, 1]\n",
        "\n",
        "validation_len = int(0.2 * len(img_tensor))  # Use 20% for testing\n",
        "train_images, test_images = img_tensor, img_tensor[:validation_len]\n",
        "train_labels, test_labels = labels_tensor, labels_tensor[:validation_len]\n",
        "\n",
        "\n",
        "train_dataset = TensorDataset(train_images, train_labels)\n",
        "test_dataset = TensorDataset(test_images, test_labels)\n",
        "\n",
        "train_loader = DataLoader(train_dataset, batch_size=64, shuffle=True)\n",
        "test_loader = DataLoader(test_dataset, batch_size=64, shuffle=False)"
      ],
      "metadata": {
        "id": "_dIrGOWbDRn9"
      },
      "execution_count": 8,
      "outputs": []
    },
    {
      "cell_type": "markdown",
      "source": [
        "# **This cell defines the `MNISTClassifier` model using PyTorch. The model is a fully connected neural network with three linear layers: the first layer maps 784 input neurons (corresponding to the pixel values of 28x28 images) to 100 neurons, the second maps 100 neurons to 50, and the final layer maps 50 neurons to 10 output classes, representing the digits 0-9.**"
      ],
      "metadata": {
        "id": "PrmMwetlFDDC"
      }
    },
    {
      "cell_type": "code",
      "source": [
        "class MNISTClassifier(nn.Module):\n",
        "  def __init__(self):\n",
        "    super(MNISTClassifier, self).__init__()\n",
        "    self.layer1 = nn.Linear(28*28, 100)\n",
        "    self.layer2 = nn.Linear(100, 50)\n",
        "    self.layer3 = nn.Linear(50, 10)\n",
        "  def forward(self, img):\n",
        "    flattened = img.view(-1, 28*28)\n",
        "    activation1 = F.relu(self.layer1(flattened))\n",
        "    activation2 = F.relu(self.layer2(activation1))\n",
        "    output = self.layer3(activation2)\n",
        "    return output\n",
        "\n",
        "cnn_model = MNISTClassifier()\n",
        "cnn_model"
      ],
      "metadata": {
        "colab": {
          "base_uri": "https://localhost:8080/"
        },
        "id": "vgJwP_0dDUzv",
        "outputId": "e08129b1-2323-4a9c-8515-19be086d64f4"
      },
      "execution_count": 9,
      "outputs": [
        {
          "output_type": "execute_result",
          "data": {
            "text/plain": [
              "MNISTClassifier(\n",
              "  (layer1): Linear(in_features=784, out_features=100, bias=True)\n",
              "  (layer2): Linear(in_features=100, out_features=50, bias=True)\n",
              "  (layer3): Linear(in_features=50, out_features=10, bias=True)\n",
              ")"
            ]
          },
          "metadata": {},
          "execution_count": 9
        }
      ]
    },
    {
      "cell_type": "markdown",
      "source": [
        "In this code:\n",
        "\n",
        "1. **Loss Function**:  \n",
        "   `criterion = nn.CrossEntropyLoss()`  \n",
        "   - The **CrossEntropyLoss** is used for multi-class classification problems. It combines `log_softmax` and `negative log-likelihood` loss in one single function to evaluate the error between the predicted class probabilities and the true labels.\n",
        "\n",
        "2. **Optimizer**:  \n",
        "   `optimizer = optim.SGD(cnn_model.parameters(), lr=0.01, momentum=0.9)`  \n",
        "   - **SGD (Stochastic Gradient Descent)** is chosen as the optimization algorithm.  \n",
        "   - The learning rate (`lr=0.01`) controls how much to adjust the weights with respect to the loss gradient.  \n",
        "   - **Momentum** (`momentum=0.9`) helps accelerate convergence and smooth out oscillations during optimization by incorporating the history of gradients.  \n",
        "\n",
        "This combination is a common setup for training neural networks, ensuring stable and efficient learning."
      ],
      "metadata": {
        "id": "Q16C726CFT_E"
      }
    },
    {
      "cell_type": "code",
      "source": [
        "# Define loss function and optimizer\n",
        "criterion = nn.CrossEntropyLoss()\n",
        "optimizer = optim.SGD(cnn_model.parameters(), lr=0.01, momentum=0.9)"
      ],
      "metadata": {
        "id": "fdfpPLTjDXhz"
      },
      "execution_count": 10,
      "outputs": []
    },
    {
      "cell_type": "markdown",
      "source": [
        "# **The `get_accuracy` function calculates the accuracy of the neural network model on either the training or test dataset. It accepts a `train` parameter to determine which dataset to evaluate on. The function uses a `DataLoader` to load data in batches of 64 and iterates through the dataset to make predictions using the model. For each batch, it compares the predicted class with the true labels and counts the number of correct predictions. The total number of correct predictions is then divided by the total number of images to compute the accuracy. This function can be used to track the performance of the model during training and evaluation.**"
      ],
      "metadata": {
        "id": "dCExCMHaFu5d"
      }
    },
    {
      "cell_type": "code",
      "source": [
        "def get_accuracy(model, train=False):\n",
        "  if train:\n",
        "    data = train_dataset\n",
        "  else:\n",
        "    data = test_dataset\n",
        "  correct = 0\n",
        "  total = 0\n",
        "  for imgs, labels in torch.utils.data.DataLoader(data, batch_size=64):\n",
        "    output = model(imgs)\n",
        "    pred  = output.max(1, keepdim=True)[1]\n",
        "    correct += pred.eq(labels.view_as(pred)).sum().item()\n",
        "    total += imgs.shape[0]\n",
        "  return correct / total"
      ],
      "metadata": {
        "id": "TgSoHS_2FoNI"
      },
      "execution_count": 11,
      "outputs": []
    },
    {
      "cell_type": "markdown",
      "source": [
        "The `train` function is used to train a neural network model over a specified number of epochs. It accepts the model, the dataset, and the number of epochs as parameters. Inside the function, it sets up the loss function (`CrossEntropyLoss`) and the optimizer (`SGD`), and then loops through the training process for each epoch.\n",
        "\n",
        "During each iteration of training, the model performs the following steps:\n",
        "1. **Forward Pass**: The model generates predictions (`out`) using the input data.\n",
        "2. **Loss Calculation**: The loss between the predicted output and the actual labels is computed using `CrossEntropyLoss`.\n",
        "3. **Backward Pass**: Backpropagation is applied to calculate the gradients of the model’s parameters.\n",
        "4. **Weight Update**: The optimizer updates the model’s weights based on the gradients.\n",
        "5. **Gradient Reset**: The optimizer's gradients are reset using `optimizer.zero_grad()` to avoid accumulation.\n",
        "\n",
        "The function tracks the running loss and computes the training accuracy using `get_accuracy`. The results (loss, training accuracy, and validation accuracy) are stored in lists and plotted using `matplotlib` to visualize the training progress. At the end of each epoch, it prints the average loss for that epoch.\n",
        "\n",
        "After training, the final training and validation accuracies are displayed.\n",
        "\n",
        "This function also generates training curves for both loss and accuracy over iterations, helping visualize the model's learning progress."
      ],
      "metadata": {
        "id": "BNmPRf0-F95I"
      }
    },
    {
      "cell_type": "code",
      "source": [
        "def train(model, dataset, num_epochs=1):\n",
        "  criterion = nn.CrossEntropyLoss()\n",
        "  optimizer = optim.SGD(model.parameters(), lr=0.01, momentum=0.9)\n",
        "  iters, losses, train_acc, val_acc = [], [], [], []\n",
        "  n = 0\n",
        "  for epoch in range(num_epochs):\n",
        "    running_loss = 0.0\n",
        "    for inputs, labels in dataset:\n",
        "        out = model(inputs)\n",
        "        loss = criterion(out, labels)  # Calculate the loss\n",
        "        loss.backward()  # Backward pass\n",
        "        optimizer.step()  # Update weights\n",
        "        optimizer.zero_grad()  # Zero the gradients\n",
        "\n",
        "        running_loss += loss.item()\n",
        "        iters.append(n)\n",
        "        losses.append(float(loss)/64)\n",
        "        train_acc.append(get_accuracy(model, train=True))\n",
        "        val_acc.append(get_accuracy(model, train=True))\n",
        "        n += 1\n",
        "    print(f\"Epoch {epoch+1}/{num_epochs}, Loss: {running_loss/len(dataset)}\")\n",
        "\n",
        "\n",
        "  fig, (ax1, ax2) = plt.subplots(1, 2, figsize=(12, 6))\n",
        "\n",
        "  # Plotting loss\n",
        "  ax1.set_title(\"Training Loss Curve\")\n",
        "  ax1.plot(iters, losses, label=\"Loss\")\n",
        "  ax1.set_xlabel(\"Iterations\")\n",
        "  ax1.set_ylabel(\"Loss\")\n",
        "  ax1.legend()\n",
        "\n",
        "  # Plotting accuracy\n",
        "  ax2.set_title(\"Training and Validation Accuracy\")\n",
        "  ax2.plot(iters, train_acc, label=\"Train Accuracy\")\n",
        "  ax2.plot(iters, val_acc, label=\"Validation Accuracy\")\n",
        "  ax2.set_xlabel(\"Iterations\")\n",
        "  ax2.set_ylabel(\"Accuracy\")\n",
        "  ax2.legend()\n",
        "\n",
        "\n",
        "  print(\"Final Training Accuracy: {}\".format(train_acc[-1]))\n",
        "  print(\"Final Validation Accuracy: {}\".format(val_acc[-1]))\n"
      ],
      "metadata": {
        "id": "Cja9JlN9FrZL"
      },
      "execution_count": 12,
      "outputs": []
    },
    {
      "cell_type": "markdown",
      "source": [
        "The command `train(cnn_model, train_loader, num_epochs=20)` calls the `train` function to train the `cnn_model` using the `train_loader` dataset for 20 epochs.\n",
        "\n",
        "Here's what happens:\n",
        "- `cnn_model` is the neural network model you defined earlier.\n",
        "- `train_loader` is the DataLoader that loads the training data in batches.\n",
        "- `num_epochs=20` specifies that the model should undergo 20 iterations of training.\n",
        "\n",
        "During each epoch, the model will process the training data, compute the loss, perform backpropagation, update weights, and track the loss and accuracy. After training, the function will display training curves for both loss and accuracy, as well as print the final training and validation accuracies."
      ],
      "metadata": {
        "id": "mignpegpGEn-"
      }
    },
    {
      "cell_type": "code",
      "source": [
        "train(cnn_model, train_loader, num_epochs= 20)"
      ],
      "metadata": {
        "colab": {
          "base_uri": "https://localhost:8080/",
          "height": 946
        },
        "id": "UWcnf35lFwgr",
        "outputId": "0917ca4e-09b0-4c11-85b3-f85ebea63562"
      },
      "execution_count": 13,
      "outputs": [
        {
          "output_type": "stream",
          "name": "stdout",
          "text": [
            "Epoch 1/20, Loss: 1.067366151340828\n",
            "Epoch 2/20, Loss: 0.362952885639136\n",
            "Epoch 3/20, Loss: 0.2752615803271342\n",
            "Epoch 4/20, Loss: 0.24378087793945508\n",
            "Epoch 5/20, Loss: 0.21665230217822798\n",
            "Epoch 6/20, Loss: 0.18637828576337\n",
            "Epoch 7/20, Loss: 0.1486604706781685\n",
            "Epoch 8/20, Loss: 0.13208836990936546\n",
            "Epoch 9/20, Loss: 0.12400342308127196\n",
            "Epoch 10/20, Loss: 0.10745659157349045\n",
            "Epoch 11/20, Loss: 0.0959725016431444\n",
            "Epoch 12/20, Loss: 0.0803822329576323\n",
            "Epoch 13/20, Loss: 0.06811925535131792\n",
            "Epoch 14/20, Loss: 0.063274861082055\n",
            "Epoch 15/20, Loss: 0.05359851403138156\n",
            "Epoch 16/20, Loss: 0.05087189766382621\n",
            "Epoch 17/20, Loss: 0.051607531958087614\n",
            "Epoch 18/20, Loss: 0.04278665764411543\n",
            "Epoch 19/20, Loss: 0.03778742912379657\n",
            "Epoch 20/20, Loss: 0.04784422061720472\n",
            "Final Training Accuracy: 0.9907\n",
            "Final Validation Accuracy: 0.9907\n"
          ]
        },
        {
          "output_type": "display_data",
          "data": {
            "text/plain": [
              "<Figure size 1200x600 with 2 Axes>"
            ],
            "image/png": "[encoded data removed]"
          },
          "metadata": {}
        }
      ]
    },
    {
      "cell_type": "markdown",
      "source": [
        "This code tests the trained model's accuracy on the training dataset by performing the following steps:\n",
        "\n",
        "1. **Disable Gradient Calculation**:  \n",
        "   The `torch.no_grad()` context is used to disable gradient tracking, which saves memory and computations during inference (testing).\n",
        "\n",
        "2. **Iterating Through Data**:  \n",
        "   The `DataLoader` iterates through the `train_dataset` in batches of 10. The `shuffle=True` ensures that the data is shuffled before feeding it into the model.\n",
        "\n",
        "3. **Forward Pass**:  \n",
        "   The model makes predictions for the current batch of input images with `cnn_model(inputs)`.\n",
        "\n",
        "4. **Predictions**:  \n",
        "   `_, predicted_labels = torch.max(outputs.data, 1)` selects the class with the highest output probability as the predicted label for each image.\n",
        "\n",
        "5. **Accuracy Calculation**:  \n",
        "   The `correct_predictions` variable counts how many predicted labels match the true labels, and `total_samples` keeps track of the total number of samples processed. The number of correct predictions is added up, and at the end, the accuracy is calculated as:\n",
        "\n",
        "   Accuracy = (correct predictions / total samples) x times 100\n",
        "   \n",
        "\n",
        "6. **Print Accuracy**:  \n",
        "   The final accuracy is printed as a percentage, showing how well the model performed on the test dataset."
      ],
      "metadata": {
        "id": "pGsT_apJGO3H"
      }
    },
    {
      "cell_type": "code",
      "source": [
        "# Test model\n",
        "correct_predictions = 0\n",
        "total_samples = 0\n",
        "with torch.no_grad():\n",
        "    for inputs, labels in torch.utils.data.DataLoader(train_dataset, batch_size=10, shuffle=True):\n",
        "        outputs = cnn_model(inputs)\n",
        "\n",
        "        _, predicted_labels = torch.max(outputs.data, 1)\n",
        "        total_samples += labels.size(0)\n",
        "        correct_predictions += (predicted_labels == labels).sum().item()\n",
        "\n",
        "print(f\"Accuracy of test set: {100 * correct_predictions / total_samples}\")"
      ],
      "metadata": {
        "colab": {
          "base_uri": "https://localhost:8080/"
        },
        "id": "ki3tT51LF0qH",
        "outputId": "1af74fd0-e480-46e4-b7d0-899a9ad9cfcc"
      },
      "execution_count": 14,
      "outputs": [
        {
          "output_type": "stream",
          "name": "stdout",
          "text": [
            "Accuracy of test set: 99.07\n"
          ]
        }
      ]
    },
    {
      "cell_type": "markdown",
      "source": [
        "This code snippet processes a batch of 10 images from the `train_dataset` and prints the predicted class labels for that batch. It first passes the input images through the trained `cnn_model` to generate predictions. Using `torch.max`, it extracts the predicted labels by selecting the class with the highest output probability for each image. The predicted labels are then printed for inspection. The loop is set to process only the first batch of data, as the `break` statement terminates the loop after printing the predictions for that batch. This is useful for quickly evaluating the model's performance on a small set of test data."
      ],
      "metadata": {
        "id": "2V7rvoe2GyYr"
      }
    },
    {
      "cell_type": "code",
      "source": [
        "for inputs, labels in torch.utils.data.DataLoader(train_dataset, batch_size=10):\n",
        "    out = cnn_model(inputs)\n",
        "    _, predicted_labels = torch.max(out.data, 1)\n",
        "    print(predicted_labels)\n",
        "    break"
      ],
      "metadata": {
        "colab": {
          "base_uri": "https://localhost:8080/"
        },
        "id": "nUn_1MoMI_Rl",
        "outputId": "5fe17dfe-f19f-453b-d6c0-8c258d82b15a"
      },
      "execution_count": 15,
      "outputs": [
        {
          "output_type": "stream",
          "name": "stdout",
          "text": [
            "tensor([7, 2, 1, 0, 4, 1, 4, 9, 5, 9])\n"
          ]
        }
      ]
    }
  ]
}